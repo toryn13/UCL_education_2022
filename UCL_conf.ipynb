{
  "nbformat": 4,
  "nbformat_minor": 0,
  "metadata": {
    "colab": {
      "name": "UCL_conf.ipynb",
      "provenance": [],
      "authorship_tag": "ABX9TyOygz2UukR9MvlmgxYgC3Kj",
      "include_colab_link": true
    },
    "kernelspec": {
      "name": "python3",
      "display_name": "Python 3"
    },
    "language_info": {
      "name": "python"
    }
  },
  "cells": [
    {
      "cell_type": "markdown",
      "metadata": {
        "id": "view-in-github",
        "colab_type": "text"
      },
      "source": [
        "<a href=\"https://colab.research.google.com/github/toryn13/UCL_education_2022/blob/main/UCL_conf.ipynb\" target=\"_parent\"><img src=\"https://colab.research.google.com/assets/colab-badge.svg\" alt=\"Open In Colab\"/></a>"
      ]
    },
    {
      "cell_type": "markdown",
      "source": [
        "#Set up R"
      ],
      "metadata": {
        "id": "Qi8cJvrURZ0E"
      }
    },
    {
      "cell_type": "code",
      "execution_count": 1,
      "metadata": {
        "id": "QE3tN4AVLMV8"
      },
      "outputs": [],
      "source": [
        "%load_ext rpy2.ipython"
      ]
    },
    {
      "cell_type": "markdown",
      "source": [
        "#Download some data"
      ],
      "metadata": {
        "id": "wBhTUCo6RcuR"
      }
    },
    {
      "cell_type": "code",
      "source": [
        "!wget \"https://raw.githubusercontent.com/toryn13/UCL_education_2022/main/example_data.txt\""
      ],
      "metadata": {
        "id": "DiT2EtP_LXcl"
      },
      "execution_count": null,
      "outputs": []
    },
    {
      "cell_type": "markdown",
      "source": [
        "#Load the packages"
      ],
      "metadata": {
        "id": "o9-kwUmPRfTB"
      }
    },
    {
      "cell_type": "code",
      "source": [
        "%%R\n",
        "library(tidyverse)"
      ],
      "metadata": {
        "id": "fpDSwMxNLjIr"
      },
      "execution_count": 6,
      "outputs": []
    },
    {
      "cell_type": "code",
      "source": [
        "%%R\n",
        "dt<-read_tsv(\"example_data.txt\")"
      ],
      "metadata": {
        "id": "hEU508RZLqu-"
      },
      "execution_count": null,
      "outputs": []
    },
    {
      "cell_type": "code",
      "source": [
        "%%R\n",
        "dt%>%ggplot(aes(x=Time, y=Rate))"
      ],
      "metadata": {
        "id": "rJu2eIEpLtTD"
      },
      "execution_count": null,
      "outputs": []
    },
    {
      "cell_type": "code",
      "source": [
        ""
      ],
      "metadata": {
        "id": "ciuhmO6BLtBh"
      },
      "execution_count": null,
      "outputs": []
    },
    {
      "cell_type": "code",
      "source": [
        ""
      ],
      "metadata": {
        "id": "1ts9s84MMPQ4"
      },
      "execution_count": null,
      "outputs": []
    },
    {
      "cell_type": "code",
      "source": [
        ""
      ],
      "metadata": {
        "id": "VevOvHyZMPCq"
      },
      "execution_count": null,
      "outputs": []
    },
    {
      "cell_type": "code",
      "source": [
        ""
      ],
      "metadata": {
        "id": "iDAfFm6EMO3F"
      },
      "execution_count": null,
      "outputs": []
    },
    {
      "cell_type": "code",
      "source": [
        ""
      ],
      "metadata": {
        "id": "JpdfaY62MOqj"
      },
      "execution_count": null,
      "outputs": []
    }
  ]
}